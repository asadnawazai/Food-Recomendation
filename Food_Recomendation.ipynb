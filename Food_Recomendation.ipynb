{
 "cells": [
  {
   "cell_type": "code",
   "execution_count": 1,
   "id": "4d41ed59-f8a3-467c-ade9-b6060fab0a3c",
   "metadata": {},
   "outputs": [],
   "source": [
    "import numpy as np \n",
    "import pandas as pd\n",
    "import matplotlib.pyplot as plt\n",
    "import seaborn as sns"
   ]
  },
  {
   "cell_type": "code",
   "execution_count": 2,
   "id": "7639f0f1-24b8-4851-b955-b4fb28bba620",
   "metadata": {},
   "outputs": [],
   "source": [
    "import pandas as pd\n",
    "import random\n",
    "\n",
    "# Predefined lists of data\n",
    "countries = ['Pakistan', 'India', 'Bangladesh', 'Sri Lanka', 'Nepal', 'China', 'Afghanistan', 'Bhutan']\n",
    "weathers = ['Hot', 'Cold', 'Rainy', 'Humid']\n",
    "food_types = ['Breakfast', 'Lunch', 'Dinner']\n",
    "\n",
    "# Expanded Food recommendations with common foods across countries\n",
    "food_dict = {\n",
    "    # Pakistan\n",
    "    ('Pakistan', 'Hot', 'Lunch'): ['Biryani', 'Chicken Karahi', 'Naan'],\n",
    "    ('Pakistan', 'Cold', 'Dinner'): ['Nihari', 'Paya', 'Roti'],\n",
    "    ('Pakistan', 'Rainy', 'Breakfast'): ['Paratha', 'Omelette', 'Chai'],\n",
    "    \n",
    "    # India\n",
    "    ('India', 'Hot', 'Lunch'): ['Biryani (Shared with Pakistan)', 'Rajma Chawal', 'Naan (Shared with Pakistan)'],\n",
    "    ('India', 'Cold', 'Dinner'): ['Tandoori Chicken', 'Dal Makhani', 'Roti (Common in South Asia)'],\n",
    "    \n",
    "    # Bangladesh\n",
    "    ('Bangladesh', 'Hot', 'Lunch'): ['Bhuna Khichuri', 'Fish Curry', 'Biryani (Shared with Pakistan and India)'],\n",
    "    ('Bangladesh', 'Cold', 'Dinner'): ['Kacchi Biryani', 'Beef Curry', 'Naan (Common in South Asia)'],\n",
    "    \n",
    "    # Sri Lanka\n",
    "    ('Sri Lanka', 'Hot', 'Lunch'): ['Kottu Roti', 'Fish Curry', 'Rice'],\n",
    "    ('Sri Lanka', 'Cold', 'Dinner'): ['Devilled Chicken', 'Eggplant Curry', 'Pittu'],\n",
    "    \n",
    "    # Nepal\n",
    "    ('Nepal', 'Hot', 'Lunch'): ['Momo (Shared with Bhutan)', 'Dal Bhat', 'Achar'],\n",
    "    ('Nepal', 'Cold', 'Dinner'): ['Thukpa', 'Sel Roti', 'Gundruk'],\n",
    "    \n",
    "    # China\n",
    "    ('China', 'Hot', 'Lunch'): ['Kung Pao Chicken', 'Fried Rice', 'Dumplings'],\n",
    "    ('China', 'Cold', 'Dinner'): ['Hot Pot', 'Noodles', 'Baozi'],\n",
    "    \n",
    "    # Afghanistan\n",
    "    ('Afghanistan', 'Hot', 'Lunch'): ['Kabuli Pulao', 'Mantu', 'Naan (Common in South Asia)'],\n",
    "    \n",
    "    # Bhutan\n",
    "    ('Bhutan', 'Hot', 'Lunch'): ['Momo (Shared with Nepal)', 'Ema Datshi', 'Red Rice']\n",
    "}\n",
    "\n",
    "# Random fallback list of foods if no specific combination is found\n",
    "fallback_foods = [\n",
    "    ['Mixed Vegetable Curry', 'Chapati', 'Salad'],\n",
    "    ['Fried Rice', 'Samosa', 'Raita'],\n",
    "    ['Pasta', 'Garlic Bread', 'Soup'],\n",
    "    ['Grilled Chicken', 'Fries', 'Steamed Veggies']\n",
    "]\n"
   ]
  },
  {
   "cell_type": "code",
   "execution_count": 3,
   "id": "fd4db1a3-92be-4cbc-9712-1d3f9db78b21",
   "metadata": {},
   "outputs": [],
   "source": [
    "# Function to get food recommendations based on country, weather, and food type\n",
    "def get_food_recommendation(country, weather, food_type):\n",
    "    return food_dict.get((country, weather, food_type), random.choice(fallback_foods))\n",
    "\n",
    "# Generate 500 rows of data\n",
    "data = []\n",
    "for _ in range(500):\n",
    "    country = random.choice(countries)\n",
    "    weather = random.choice(weathers)\n",
    "    food_type = random.choice(food_types)\n",
    "    \n",
    "    recommended_foods = get_food_recommendation(country, weather, food_type)\n",
    "    data.append([country, weather, food_type, recommended_foods])"
   ]
  },
  {
   "cell_type": "code",
   "execution_count": 4,
   "id": "21270f6b-0773-49c5-85ab-9d0129a8b3b3",
   "metadata": {},
   "outputs": [],
   "source": [
    "df = pd.DataFrame(data, columns=['Country', 'Weather', 'Food Type', 'Recommended Foods'])"
   ]
  },
  {
   "cell_type": "code",
   "execution_count": 5,
   "id": "28ab5e08-3e0a-41ff-9328-70f8cbdfd3d6",
   "metadata": {},
   "outputs": [
    {
     "data": {
      "text/html": [
       "<div>\n",
       "<style scoped>\n",
       "    .dataframe tbody tr th:only-of-type {\n",
       "        vertical-align: middle;\n",
       "    }\n",
       "\n",
       "    .dataframe tbody tr th {\n",
       "        vertical-align: top;\n",
       "    }\n",
       "\n",
       "    .dataframe thead th {\n",
       "        text-align: right;\n",
       "    }\n",
       "</style>\n",
       "<table border=\"1\" class=\"dataframe\">\n",
       "  <thead>\n",
       "    <tr style=\"text-align: right;\">\n",
       "      <th></th>\n",
       "      <th>Country</th>\n",
       "      <th>Weather</th>\n",
       "      <th>Food Type</th>\n",
       "      <th>Recommended Foods</th>\n",
       "    </tr>\n",
       "  </thead>\n",
       "  <tbody>\n",
       "    <tr>\n",
       "      <th>0</th>\n",
       "      <td>Pakistan</td>\n",
       "      <td>Rainy</td>\n",
       "      <td>Breakfast</td>\n",
       "      <td>[Paratha, Omelette, Chai]</td>\n",
       "    </tr>\n",
       "    <tr>\n",
       "      <th>1</th>\n",
       "      <td>Bhutan</td>\n",
       "      <td>Cold</td>\n",
       "      <td>Lunch</td>\n",
       "      <td>[Grilled Chicken, Fries, Steamed Veggies]</td>\n",
       "    </tr>\n",
       "    <tr>\n",
       "      <th>2</th>\n",
       "      <td>India</td>\n",
       "      <td>Cold</td>\n",
       "      <td>Breakfast</td>\n",
       "      <td>[Grilled Chicken, Fries, Steamed Veggies]</td>\n",
       "    </tr>\n",
       "    <tr>\n",
       "      <th>3</th>\n",
       "      <td>India</td>\n",
       "      <td>Rainy</td>\n",
       "      <td>Breakfast</td>\n",
       "      <td>[Pasta, Garlic Bread, Soup]</td>\n",
       "    </tr>\n",
       "    <tr>\n",
       "      <th>4</th>\n",
       "      <td>Afghanistan</td>\n",
       "      <td>Rainy</td>\n",
       "      <td>Dinner</td>\n",
       "      <td>[Pasta, Garlic Bread, Soup]</td>\n",
       "    </tr>\n",
       "  </tbody>\n",
       "</table>\n",
       "</div>"
      ],
      "text/plain": [
       "       Country Weather  Food Type                          Recommended Foods\n",
       "0     Pakistan   Rainy  Breakfast                  [Paratha, Omelette, Chai]\n",
       "1       Bhutan    Cold      Lunch  [Grilled Chicken, Fries, Steamed Veggies]\n",
       "2        India    Cold  Breakfast  [Grilled Chicken, Fries, Steamed Veggies]\n",
       "3        India   Rainy  Breakfast                [Pasta, Garlic Bread, Soup]\n",
       "4  Afghanistan   Rainy     Dinner                [Pasta, Garlic Bread, Soup]"
      ]
     },
     "execution_count": 5,
     "metadata": {},
     "output_type": "execute_result"
    }
   ],
   "source": [
    "df.head()"
   ]
  },
  {
   "cell_type": "code",
   "execution_count": 6,
   "id": "a4bcaaa2-f6de-4747-a634-48942d407fb3",
   "metadata": {},
   "outputs": [
    {
     "data": {
      "text/plain": [
       "(500, 4)"
      ]
     },
     "execution_count": 6,
     "metadata": {},
     "output_type": "execute_result"
    }
   ],
   "source": [
    "df.shape"
   ]
  },
  {
   "cell_type": "code",
   "execution_count": 7,
   "id": "9dd32e42-145c-46d4-bde6-c1a9806fa570",
   "metadata": {},
   "outputs": [
    {
     "data": {
      "text/html": [
       "<div>\n",
       "<style scoped>\n",
       "    .dataframe tbody tr th:only-of-type {\n",
       "        vertical-align: middle;\n",
       "    }\n",
       "\n",
       "    .dataframe tbody tr th {\n",
       "        vertical-align: top;\n",
       "    }\n",
       "\n",
       "    .dataframe thead th {\n",
       "        text-align: right;\n",
       "    }\n",
       "</style>\n",
       "<table border=\"1\" class=\"dataframe\">\n",
       "  <thead>\n",
       "    <tr style=\"text-align: right;\">\n",
       "      <th></th>\n",
       "      <th>Country</th>\n",
       "      <th>Weather</th>\n",
       "      <th>Food Type</th>\n",
       "      <th>Recommended Foods</th>\n",
       "    </tr>\n",
       "  </thead>\n",
       "  <tbody>\n",
       "    <tr>\n",
       "      <th>0</th>\n",
       "      <td>Pakistan</td>\n",
       "      <td>Rainy</td>\n",
       "      <td>Breakfast</td>\n",
       "      <td>[Paratha, Omelette, Chai]</td>\n",
       "    </tr>\n",
       "    <tr>\n",
       "      <th>1</th>\n",
       "      <td>Bhutan</td>\n",
       "      <td>Cold</td>\n",
       "      <td>Lunch</td>\n",
       "      <td>[Grilled Chicken, Fries, Steamed Veggies]</td>\n",
       "    </tr>\n",
       "    <tr>\n",
       "      <th>2</th>\n",
       "      <td>India</td>\n",
       "      <td>Cold</td>\n",
       "      <td>Breakfast</td>\n",
       "      <td>[Grilled Chicken, Fries, Steamed Veggies]</td>\n",
       "    </tr>\n",
       "    <tr>\n",
       "      <th>3</th>\n",
       "      <td>India</td>\n",
       "      <td>Rainy</td>\n",
       "      <td>Breakfast</td>\n",
       "      <td>[Pasta, Garlic Bread, Soup]</td>\n",
       "    </tr>\n",
       "    <tr>\n",
       "      <th>4</th>\n",
       "      <td>Afghanistan</td>\n",
       "      <td>Rainy</td>\n",
       "      <td>Dinner</td>\n",
       "      <td>[Pasta, Garlic Bread, Soup]</td>\n",
       "    </tr>\n",
       "    <tr>\n",
       "      <th>...</th>\n",
       "      <td>...</td>\n",
       "      <td>...</td>\n",
       "      <td>...</td>\n",
       "      <td>...</td>\n",
       "    </tr>\n",
       "    <tr>\n",
       "      <th>495</th>\n",
       "      <td>Pakistan</td>\n",
       "      <td>Rainy</td>\n",
       "      <td>Dinner</td>\n",
       "      <td>[Fried Rice, Samosa, Raita]</td>\n",
       "    </tr>\n",
       "    <tr>\n",
       "      <th>496</th>\n",
       "      <td>Bangladesh</td>\n",
       "      <td>Cold</td>\n",
       "      <td>Breakfast</td>\n",
       "      <td>[Pasta, Garlic Bread, Soup]</td>\n",
       "    </tr>\n",
       "    <tr>\n",
       "      <th>497</th>\n",
       "      <td>Sri Lanka</td>\n",
       "      <td>Humid</td>\n",
       "      <td>Lunch</td>\n",
       "      <td>[Pasta, Garlic Bread, Soup]</td>\n",
       "    </tr>\n",
       "    <tr>\n",
       "      <th>498</th>\n",
       "      <td>Nepal</td>\n",
       "      <td>Humid</td>\n",
       "      <td>Dinner</td>\n",
       "      <td>[Fried Rice, Samosa, Raita]</td>\n",
       "    </tr>\n",
       "    <tr>\n",
       "      <th>499</th>\n",
       "      <td>Nepal</td>\n",
       "      <td>Cold</td>\n",
       "      <td>Lunch</td>\n",
       "      <td>[Mixed Vegetable Curry, Chapati, Salad]</td>\n",
       "    </tr>\n",
       "  </tbody>\n",
       "</table>\n",
       "<p>500 rows × 4 columns</p>\n",
       "</div>"
      ],
      "text/plain": [
       "         Country Weather  Food Type                          Recommended Foods\n",
       "0       Pakistan   Rainy  Breakfast                  [Paratha, Omelette, Chai]\n",
       "1         Bhutan    Cold      Lunch  [Grilled Chicken, Fries, Steamed Veggies]\n",
       "2          India    Cold  Breakfast  [Grilled Chicken, Fries, Steamed Veggies]\n",
       "3          India   Rainy  Breakfast                [Pasta, Garlic Bread, Soup]\n",
       "4    Afghanistan   Rainy     Dinner                [Pasta, Garlic Bread, Soup]\n",
       "..           ...     ...        ...                                        ...\n",
       "495     Pakistan   Rainy     Dinner                [Fried Rice, Samosa, Raita]\n",
       "496   Bangladesh    Cold  Breakfast                [Pasta, Garlic Bread, Soup]\n",
       "497    Sri Lanka   Humid      Lunch                [Pasta, Garlic Bread, Soup]\n",
       "498        Nepal   Humid     Dinner                [Fried Rice, Samosa, Raita]\n",
       "499        Nepal    Cold      Lunch    [Mixed Vegetable Curry, Chapati, Salad]\n",
       "\n",
       "[500 rows x 4 columns]"
      ]
     },
     "execution_count": 7,
     "metadata": {},
     "output_type": "execute_result"
    }
   ],
   "source": [
    "df"
   ]
  },
  {
   "cell_type": "code",
   "execution_count": 8,
   "id": "ad77f0fa-8915-4fe3-8f15-7ca502b3e1af",
   "metadata": {},
   "outputs": [
    {
     "data": {
      "text/html": [
       "<div>\n",
       "<style scoped>\n",
       "    .dataframe tbody tr th:only-of-type {\n",
       "        vertical-align: middle;\n",
       "    }\n",
       "\n",
       "    .dataframe tbody tr th {\n",
       "        vertical-align: top;\n",
       "    }\n",
       "\n",
       "    .dataframe thead th {\n",
       "        text-align: right;\n",
       "    }\n",
       "</style>\n",
       "<table border=\"1\" class=\"dataframe\">\n",
       "  <thead>\n",
       "    <tr style=\"text-align: right;\">\n",
       "      <th></th>\n",
       "      <th>Country</th>\n",
       "      <th>Weather</th>\n",
       "      <th>Food Type</th>\n",
       "      <th>Recommended Foods</th>\n",
       "    </tr>\n",
       "  </thead>\n",
       "  <tbody>\n",
       "    <tr>\n",
       "      <th>count</th>\n",
       "      <td>500</td>\n",
       "      <td>500</td>\n",
       "      <td>500</td>\n",
       "      <td>500</td>\n",
       "    </tr>\n",
       "    <tr>\n",
       "      <th>unique</th>\n",
       "      <td>8</td>\n",
       "      <td>4</td>\n",
       "      <td>3</td>\n",
       "      <td>19</td>\n",
       "    </tr>\n",
       "    <tr>\n",
       "      <th>top</th>\n",
       "      <td>Afghanistan</td>\n",
       "      <td>Cold</td>\n",
       "      <td>Breakfast</td>\n",
       "      <td>[Fried Rice, Samosa, Raita]</td>\n",
       "    </tr>\n",
       "    <tr>\n",
       "      <th>freq</th>\n",
       "      <td>75</td>\n",
       "      <td>128</td>\n",
       "      <td>182</td>\n",
       "      <td>113</td>\n",
       "    </tr>\n",
       "  </tbody>\n",
       "</table>\n",
       "</div>"
      ],
      "text/plain": [
       "            Country Weather  Food Type            Recommended Foods\n",
       "count           500     500        500                          500\n",
       "unique            8       4          3                           19\n",
       "top     Afghanistan    Cold  Breakfast  [Fried Rice, Samosa, Raita]\n",
       "freq             75     128        182                          113"
      ]
     },
     "execution_count": 8,
     "metadata": {},
     "output_type": "execute_result"
    }
   ],
   "source": [
    "df.describe()"
   ]
  },
  {
   "cell_type": "code",
   "execution_count": 9,
   "id": "48e10381-3b03-441f-9e5e-de65c707e52e",
   "metadata": {},
   "outputs": [
    {
     "data": {
      "text/plain": [
       "<bound method DataFrame.corr of          Country Weather  Food Type                          Recommended Foods\n",
       "0       Pakistan   Rainy  Breakfast                  [Paratha, Omelette, Chai]\n",
       "1         Bhutan    Cold      Lunch  [Grilled Chicken, Fries, Steamed Veggies]\n",
       "2          India    Cold  Breakfast  [Grilled Chicken, Fries, Steamed Veggies]\n",
       "3          India   Rainy  Breakfast                [Pasta, Garlic Bread, Soup]\n",
       "4    Afghanistan   Rainy     Dinner                [Pasta, Garlic Bread, Soup]\n",
       "..           ...     ...        ...                                        ...\n",
       "495     Pakistan   Rainy     Dinner                [Fried Rice, Samosa, Raita]\n",
       "496   Bangladesh    Cold  Breakfast                [Pasta, Garlic Bread, Soup]\n",
       "497    Sri Lanka   Humid      Lunch                [Pasta, Garlic Bread, Soup]\n",
       "498        Nepal   Humid     Dinner                [Fried Rice, Samosa, Raita]\n",
       "499        Nepal    Cold      Lunch    [Mixed Vegetable Curry, Chapati, Salad]\n",
       "\n",
       "[500 rows x 4 columns]>"
      ]
     },
     "execution_count": 9,
     "metadata": {},
     "output_type": "execute_result"
    }
   ],
   "source": [
    "df.corr"
   ]
  },
  {
   "cell_type": "code",
   "execution_count": 10,
   "id": "20a92b30-13d2-4e98-a9d2-27b219712d3a",
   "metadata": {},
   "outputs": [
    {
     "data": {
      "text/plain": [
       "Weather\n",
       "Cold     128\n",
       "Humid    127\n",
       "Hot      123\n",
       "Rainy    122\n",
       "Name: count, dtype: int64"
      ]
     },
     "execution_count": 10,
     "metadata": {},
     "output_type": "execute_result"
    }
   ],
   "source": [
    "df['Weather'].value_counts()"
   ]
  },
  {
   "cell_type": "markdown",
   "id": "9ab2ade4-cf6d-447e-942b-c3a50aeee971",
   "metadata": {},
   "source": [
    "# Preprocessing "
   ]
  },
  {
   "cell_type": "code",
   "execution_count": 11,
   "id": "e632ce7e-5450-4832-978f-ca74899eeab6",
   "metadata": {},
   "outputs": [],
   "source": [
    "from sklearn.preprocessing import MultiLabelBinarizer\n",
    "import pandas as pd\n",
    "import ast\n",
    "df['Recommended Foods'] = df['Recommended Foods'].apply(lambda x: ast.literal_eval(x) if isinstance(x, str) else x)\n",
    "y = df['Recommended Foods'].apply(lambda x: x if isinstance(x, list) else [])\n",
    "\n",
    "mlb = MultiLabelBinarizer()\n",
    "y_encoded = mlb.fit_transform(y)\n",
    "\n",
    "food_labels = mlb.classes_\n",
    "X = df[['Country', 'Weather', 'Food Type']]"
   ]
  },
  {
   "cell_type": "code",
   "execution_count": 12,
   "id": "03243f71-2dba-499b-ac73-2493a30110f7",
   "metadata": {},
   "outputs": [],
   "source": [
    "from sklearn.model_selection import train_test_split\n",
    "from sklearn.preprocessing import OneHotEncoder\n",
    "from sklearn.compose import ColumnTransformer\n",
    "from sklearn.ensemble import RandomForestClassifier\n",
    "from sklearn.pipeline import Pipeline\n",
    "\n",
    "\n",
    "X_train, X_test, y_train, y_test = train_test_split(X, y_encoded, test_size=0.2, random_state=1)"
   ]
  },
  {
   "cell_type": "code",
   "execution_count": 13,
   "id": "cc48e51e-9639-4705-8154-42250b66911c",
   "metadata": {},
   "outputs": [
    {
     "data": {
      "text/plain": [
       "(400, 3)"
      ]
     },
     "execution_count": 13,
     "metadata": {},
     "output_type": "execute_result"
    }
   ],
   "source": [
    "X_train.shape"
   ]
  },
  {
   "cell_type": "code",
   "execution_count": 14,
   "id": "b23e5f55-36b8-444b-a2c5-bf09ab8b8d2a",
   "metadata": {},
   "outputs": [
    {
     "data": {
      "text/plain": [
       "(100, 3)"
      ]
     },
     "execution_count": 14,
     "metadata": {},
     "output_type": "execute_result"
    }
   ],
   "source": [
    "X_test.shape"
   ]
  },
  {
   "cell_type": "code",
   "execution_count": 15,
   "id": "1f3151aa-4c94-4b79-a49d-7cf8427d526e",
   "metadata": {},
   "outputs": [
    {
     "data": {
      "text/plain": [
       "array([[0, 0, 0, ..., 1, 0, 0],\n",
       "       [0, 0, 0, ..., 0, 0, 0],\n",
       "       [0, 0, 0, ..., 0, 0, 0],\n",
       "       ...,\n",
       "       [0, 0, 0, ..., 0, 0, 0],\n",
       "       [0, 1, 0, ..., 0, 0, 0],\n",
       "       [0, 0, 0, ..., 0, 0, 0]])"
      ]
     },
     "execution_count": 15,
     "metadata": {},
     "output_type": "execute_result"
    }
   ],
   "source": [
    "y_train"
   ]
  },
  {
   "cell_type": "code",
   "execution_count": 16,
   "id": "70a93f5e-843d-404b-8068-df523f4a0e72",
   "metadata": {},
   "outputs": [],
   "source": [
    "preprocessor = ColumnTransformer(\n",
    "    transformers=[\n",
    "        ('cat', OneHotEncoder(), ['Country', 'Weather', 'Food Type'])\n",
    "    ]\n",
    ")\n",
    "pipeline = Pipeline(steps=[\n",
    "    ('preprocessor', preprocessor),\n",
    "    ('classifier', RandomForestClassifier(random_state=42))\n",
    "])\n",
    "\n",
    "pipeline.fit(X_train, y_train)\n",
    "y_pred = pipeline.predict(X_test)"
   ]
  },
  {
   "cell_type": "code",
   "execution_count": 17,
   "id": "067200a9-300e-40be-8d42-0fe3ba4bb3b3",
   "metadata": {},
   "outputs": [
    {
     "data": {
      "text/plain": [
       "0.31"
      ]
     },
     "execution_count": 17,
     "metadata": {},
     "output_type": "execute_result"
    }
   ],
   "source": [
    "from sklearn.metrics import accuracy_score\n",
    "accuracy_score(y_test,y_pred)"
   ]
  },
  {
   "cell_type": "code",
   "execution_count": 18,
   "id": "ef4be945-7e62-4acc-bb84-756f0fb7fe3a",
   "metadata": {},
   "outputs": [
    {
     "name": "stdout",
     "output_type": "stream",
     "text": [
      "('Dumplings', 'Fried Rice', 'Kung Pao Chicken')\n"
     ]
    }
   ],
   "source": [
    "def recommend_food(country, weather, food_type):\n",
    "    input_data = pd.DataFrame({'Country': [country], 'Weather': [weather], 'Food Type': [food_type]})\n",
    "    recommended_foods_encoded = pipeline.predict(input_data)\n",
    "    \n",
    "    recommended_foods = mlb.inverse_transform(recommended_foods_encoded)\n",
    "    \n",
    "    # Return the first 3 food items if available\n",
    "    return recommended_foods[0][:3] if recommended_foods else ['No food recommended']\n",
    "\n",
    "# Example usage\n",
    "print(recommend_food('China', 'Hot', 'Lunch'))"
   ]
  },
  {
   "cell_type": "code",
   "execution_count": 19,
   "id": "7647bd59-a0ee-4e7a-9ecc-11a1bea4f545",
   "metadata": {},
   "outputs": [
    {
     "data": {
      "text/plain": [
       "Country\n",
       "Afghanistan    75\n",
       "Bangladesh     73\n",
       "Nepal          65\n",
       "Sri Lanka      63\n",
       "China          62\n",
       "Bhutan         57\n",
       "Pakistan       56\n",
       "India          49\n",
       "Name: count, dtype: int64"
      ]
     },
     "execution_count": 19,
     "metadata": {},
     "output_type": "execute_result"
    }
   ],
   "source": [
    "df['Country'].value_counts()"
   ]
  },
  {
   "cell_type": "code",
   "execution_count": 20,
   "id": "65df8879-50ff-4466-8598-2f3df9d7148a",
   "metadata": {},
   "outputs": [
    {
     "data": {
      "text/plain": [
       "Weather\n",
       "Cold     128\n",
       "Humid    127\n",
       "Hot      123\n",
       "Rainy    122\n",
       "Name: count, dtype: int64"
      ]
     },
     "execution_count": 20,
     "metadata": {},
     "output_type": "execute_result"
    }
   ],
   "source": [
    "df['Weather'].value_counts()"
   ]
  },
  {
   "cell_type": "code",
   "execution_count": 21,
   "id": "741d4e25-1aea-4148-8153-4c9da08fe373",
   "metadata": {},
   "outputs": [
    {
     "data": {
      "text/plain": [
       "Food Type\n",
       "Breakfast    182\n",
       "Lunch        175\n",
       "Dinner       143\n",
       "Name: count, dtype: int64"
      ]
     },
     "execution_count": 21,
     "metadata": {},
     "output_type": "execute_result"
    }
   ],
   "source": [
    "df['Food Type'].value_counts()"
   ]
  },
  {
   "cell_type": "code",
   "execution_count": null,
   "id": "0cc35e97-a086-4ce4-9042-ac500f7dc649",
   "metadata": {},
   "outputs": [],
   "source": []
  }
 ],
 "metadata": {
  "kernelspec": {
   "display_name": "Python 3 (ipykernel)",
   "language": "python",
   "name": "python3"
  },
  "language_info": {
   "codemirror_mode": {
    "name": "ipython",
    "version": 3
   },
   "file_extension": ".py",
   "mimetype": "text/x-python",
   "name": "python",
   "nbconvert_exporter": "python",
   "pygments_lexer": "ipython3",
   "version": "3.12.4"
  }
 },
 "nbformat": 4,
 "nbformat_minor": 5
}
